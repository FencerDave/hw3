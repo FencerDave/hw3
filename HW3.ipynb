{
 "cells": [
  {
   "cell_type": "markdown",
   "metadata": {},
   "source": [
    "#### Problem 1 (Morbidelli 4.21, modified)\n",
    "\n",
    "By making the indicated substitutions, reduce the following ODEs to Bessel's equation and report the general solution in terms of Bessel functions\n",
    "\n",
    "**Plot the functions using the BCs y(1) = 1 and finite solutions.**\n",
    "\n",
    "1. $xy''+ y' + \\frac{1}{4}y = 0, \\sqrt{x} = z $\n",
    "2. $xy'' + (1 + 2n)y' +xy = 0, y = x^{-n}u$\n",
    "3. $y''- xy= 0, y = u\\sqrt{x}, y = u\\sqrt{x}, \\frac{2}{3}x^{\\frac{3}{2}}=z$"
   ]
  },
  {
   "cell_type": "markdown",
   "metadata": {},
   "source": [
    "#### Problem 2 (Morbidelli 4.22)\n",
    "\n",
    "For the temperature distribution (4.15.9), derive formulae for the average temperature in the cylinder\n",
    "\n",
    "$$T(r) = \\frac{1}{b} \\bigg[(a + bT_0)\\frac{J_0(r\\sqrt{b/k})}{J_0(R\\sqrt{b/k})} - a \\bigg]$$"
   ]
  },
  {
   "cell_type": "markdown",
   "metadata": {},
   "source": [
    "#### Problem 3 (Morbidelli 4.25, modified)\n",
    "\n",
    "Repeat example 2 of section 4.15 for the case of finite external mass transfer resistance at the pellet surface. The BC at r=R is then replaced by\n",
    "\n",
    "$$D \\frac{dC}{dr} = k_g(C_f - C), r=R $$\n",
    "\n",
    "where $C_f$ is the reactant concentration in the bulk fluid and $k_g$ is the mass transfer coefficient. In making the problem dimensionless, an additional dimensionless parameter called the Biot number, $Bi = k_gR/D$, arises. Also report asymptotic values of the effectiveness factor, $\\eta$, for small and large values of the Thiele modulus, $\\Phi$.\n",
    "\n",
    "**Plot profiles of the dimensionless concentration with varying levels of Bi, $\\Phi$, and $u_f$**"
   ]
  },
  {
   "cell_type": "markdown",
   "metadata": {},
   "source": [
    "#### Problem 4 (Morbidelli 4.26, modified)\n",
    "\n",
    "Consider a circular fin of thickness b attached to a heated pipe with outside wall temperature $T_0$. Heat loss from the end area ($2 \\pi R_1 b$) may be neglected. The ambient air is maintained at temperature $T_a$.\n",
    "\n",
    "1. Derive an expression for the temperature profile within the fin.\n",
    "2. Derive an expression for the total heat loss from the fin.\n",
    "3. Derive an expression for the fin efficiency, $\\eta$, which is defined as the ratio of heat actually dissipated by the fin, to that which would be lost if the entire fin surface were held at $T_0$.\n",
    "\n",
    "**Plot the temperature profile to make sure your solution makes sense.**"
   ]
  }
 ],
 "metadata": {
  "kernelspec": {
   "display_name": "Python 3",
   "language": "python",
   "name": "python3"
  },
  "language_info": {
   "codemirror_mode": {
    "name": "ipython",
    "version": 3
   },
   "file_extension": ".py",
   "mimetype": "text/x-python",
   "name": "python",
   "nbconvert_exporter": "python",
   "pygments_lexer": "ipython3",
   "version": "3.7.2"
  }
 },
 "nbformat": 4,
 "nbformat_minor": 2
}
