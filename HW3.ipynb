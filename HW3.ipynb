{
 "cells": [
  {
   "cell_type": "markdown",
   "metadata": {},
   "source": [
    "#### Problem 1 (Morbidelli 4.21, modified)\n",
    "\n",
    "By making the indicated substitutions, reduce the following ODEs to Bessel's equation and report the general solution in terms of Bessel functions\n",
    "\n",
    "**Plot the functions using the BCs y(1) = 1 and finite solutions.**\n",
    "\n",
    "1. $xy''+ y' + \\frac{1}{4}y = 0, \\sqrt{x} = z $\n",
    "2. $xy'' + (1 + 2n)y' +xy = 0, y = x^{-n}u$\n",
    "3. $y''- xy= 0, y = u\\sqrt{x}, y = u\\sqrt{x}, \\frac{2}{3}x^{\\frac{3}{2}}=z$"
   ]
  },
  {
   "cell_type": "markdown",
   "metadata": {},
   "source": [
    "## Problem 1 Solutions:\n",
    "### Solution  1.1)\n",
    "Multiply X through to get function in form $x^2*y$:\n",
    "$$xy\"+y'+\\frac{1}{4}y=0 \\quad \\Longrightarrow \\quad x^2*y\"+x*y'+\\frac{x}{4}y$$  \n",
    "\n",
    "Since first term is $x*y'$, first bessel substitution is equal to 1:\n",
    "$$1 = a+2bx^p \\quad \\Longrightarrow \\quad a=1,\\quad b=0,\\quad p=N/A=1$$\n",
    "\n",
    "Now since we have a and b, the second term (which is equal to $\\frac{x}{4}$), is simpler:\n",
    "$$\\frac{x}{4}= c + d*x^{2q} \\quad \\Longrightarrow \\quad c=0,\\quad d=\\frac{1}{2},\\quad q=\\frac{1}{4}$$\n",
    "\n",
    "Bessel plug-ins thus have the form:\n",
    "$$\\alpha = \\frac{1-1}{2}=0 \\qquad \\beta = \\frac{0}{1}=0 \\qquad \\lambda = \\frac{\\sqrt{\\frac{1}{4}}}{\\frac{1}{2}} =1 $$\n",
    "\n",
    "So the general solution is thus, and solving for y(1)=1:\n",
    "$$y(x) = x^0*e^0*(C_1 J_0(\\sqrt(x))+C_2 Y_0(\\sqrt(x)))\\quad \\Longrightarrow \\quad C_1 = \\frac{1}{J_0(1)}, \\quad C_2=0?$$\n",
    "\n",
    "### 1.1 Second-Attempt...)\n",
    "As suggested (I think) in the statement, do a $z=\\sqrt{x}$ Substitution:\n",
    "$$xy\"+y'+\\frac{1}{4}y=0 \\quad \\Longrightarrow \\quad Z^2*y\"+y'+\\frac{1}{4}y$$  \n",
    "\n",
    "Since first term is now JUST $y'$, first bessel substitution is equal to $\\frac{1}{z}$:\n",
    "$$\\frac{1}{z} = a+2bz^p \\quad \\Longrightarrow \\quad a=0,\\quad b=\\frac{1}{2},\\quad p=-1$$\n",
    "\n",
    "Now since we have a, b, and p, the second term (which is equal to $\\frac{1}{4}$), is more complex:\n",
    "$$\\frac{1}{4}= c + dz^{2q}+b(a+p-1)z^p \\quad \\Longrightarrow \\quad \\frac{1}{4}= c + dz^{2q}+\\frac{1}{z}+\\frac{1}{4z^2}$$\n",
    "\n",
    "I suppose we give all the Non-z terms to c, and balance the z terms with d? **CAN D, Q BE A FUNCTION?**\n",
    "$$c=\\frac{1}{4}, \\qquad d=,\\qquad q=-1? -2?$$\n",
    "\n",
    "Bessel plug-ins thus have the form:\n",
    "$$\\alpha = \\frac{1-0}{2} =\\frac{1}{2} \\qquad \\beta = \\frac{-1}{2} \\qquad \\lambda = \\frac{\\sqrt{d}}{q}  \\qquad v =0$$\n",
    "\n",
    "So the general solution is thus, and solving for y(1)=1:\n",
    "$$y(x) = x^0*e^0*(C_1 J_0(\\sqrt(x))+C_2 Y_0(\\sqrt(x)))\\quad \\Longrightarrow \\quad C_1  $$\n",
    "\n",
    "--------------------------------------------------------------------------------------------\n"
   ]
  },
  {
   "cell_type": "markdown",
   "metadata": {},
   "source": [
    "\n",
    "### Solution 1.2)\n",
    "Just putting it out there... This cleans up nicely but only works by blind faith... I have no clue why one would make that guess...\n",
    "\n",
    "Beginning with the stated sub. take derivitives...\n",
    "$$ \\Large y=x^{-n}u $$\n",
    "\n",
    "Product rule...\n",
    "$$ \\Large y'=\\left(-nx^{-n-1}\\right)u + \\left(x^{-n}\\right)u'$$\n",
    "\n",
    "Product rule...\n",
    "$$y''=-n \\left( -nx^{-n-2}u + x^{-n-1}u' \\right)+ \\left( -nx^{-n-1}u' + x^{-n}u'' \\right)$$\n",
    " \n",
    "Gather u, u', u'' together:\n",
    "$$ \\Large y'' = x^{-n}u'' + \\left( -2nx^{-n-1}\\right) u' + \\left( n^2 x^{-n-1}\\right)u$$\n",
    " \n",
    "Now, Substituting all into main function...\n",
    "\n",
    "$$ 0=[ x(x^{-n})u''+x(-2nx^{-n-1})u'+x(n^2x^{-n-2})u ] +[(1+2n)(-nx^{-n-1} + (1+2n)x^{-n}u'] + x[x^{-n}u]$$\n",
    "\n",
    "Once again, gathering into u, u', u'' functions. NOTE: slightly preparing for $X^2u'',\\, Xu', and u functions!\n",
    "\n",
    "$$x^{1-n}u'' + xu' [-2nx^{-n-1} +(1+2n)x^{-n} ]+u [ xn^2x^{-n-2} +(1+2n)(-n)x^{-n-2} + x^{1-n} ] $$\n",
    "\n",
    "Now... we need that $x^{1-n}$ term as a $x^{2}$, so multiply everything by $\\frac{x^2}{x^{1-n}}, which = $x^{1+n}:\n",
    "\n",
    "$$x^2u'' + xu'[ 2nx^{(1+n)-n-1}+(1+2n)x^{(-n)+n+1} ] + u [n^2x^{(n+1)-n-2+1} + (1+2n)(-n)x^{(n+1)+(-n-1)} + x^{1+n+1-n} ] $$\n",
    "\n",
    "A LOT of that cancels out!\n",
    "<span style=\"color:blue\">\n",
    "$$ \\Large x^2 u'' + xu' [2n + (1+2n)(x) ] + u[n - n^2 + x^2]$$\n",
    "\n",
    "----------------------------------------------------------------------------------------------------------------\n",
    "NOW to solve the first bessel step:\n",
    "$$ 2n+(1+2n)x = a + 2bx \\quad \\Longrightarrow \\quad  a=2n  \\quad b=\\frac{1+2n}{2} \\quad p=1$$\n",
    "\n",
    "Ok. that's a bit complex, but let's see what that makes for the \"c,d,q\" solving step:\n",
    "\n",
    "$$ [ n- n^2 + x^2] = c + dx^{2q} + \\frac{1+2n}{2}(2n)x +\\left( \\frac{1+2n}{2} \\right)^2x^2$$\n",
    "\n",
    "taking it all to the side and gathering terms: \n",
    "\n",
    "$$ 0=\\left[c-n+n^2\\right] + \\left[n+2n^2\\right]x +\\left[\\frac{-3}{4}+n+n^2\\right] x^2 + dx^{2q} $$\n",
    "\n",
    "... I'm still not sure how to finish that solution... I can cancel the non-x term with C, but how does dx^2q fix both the x and x squated terms? For now, \n",
    "$$ c=n-n^2$$\n",
    "so...\n",
    "$$ 0 = \\left[n+2n^2\\right]x +\\left[\\frac{-3}{4}+n+n^2\\right] x^2 + dx^{2q}$$\n",
    "taking out an x? \n",
    "$$ 0 =n+2n^2 +\\left[\\frac{-3}{4}+n+n^2\\right] x + dx^{2q-1}$$"
   ]
  },
  {
   "cell_type": "markdown",
   "metadata": {},
   "source": [
    "### Solution 1.3) \n",
    "Starting with Assigned (?) substitution:\n",
    "$$ y = u*x^\\frac{1}{2} \\quad \\Longrightarrow \\quad y' = u'x^\\frac{1}{2} + \\frac{u}{2}x^{\\frac{-1}{2}}$$\n",
    "\n",
    "$$ y'' = u''x^\\frac{1}{2} + u' \\frac{1}{2}x^\\frac{-1}{2}+ u' \\frac{1}{2}x^\\frac{-1}{2} +\\frac{-1}{4}x^\\frac{-3}{2}$$\n",
    "$$ y'' = u''x^\\frac{1}{2} + u'x^\\frac{-1}{2} +\\frac{-1}{4}x^\\frac{-3}{2}$$"
   ]
  },
  {
   "cell_type": "markdown",
   "metadata": {},
   "source": [
    "#### Problem 2 (Morbidelli 4.22)\n",
    "\n",
    "For the temperature distribution (4.15.9), derive formulae for the average temperature in the cylinder\n",
    "\n",
    "$$T(r) = \\frac{1}{b} \\bigg[(a + bT_0)\\frac{J_0(r\\sqrt{b/k})}{J_0(R\\sqrt{b/k})} - a \\bigg]$$"
   ]
  },
  {
   "cell_type": "markdown",
   "metadata": {},
   "source": [
    "#### Problem 3 (Morbidelli 4.25, modified)\n",
    "\n",
    "Repeat example 2 of section 4.15 for the case of finite external mass transfer resistance at the pellet surface. The BC at r=R is then replaced by\n",
    "\n",
    "$$D \\frac{dC}{dr} = k_g(C_f - C), r=R $$\n",
    "\n",
    "where $C_f$ is the reactant concentration in the bulk fluid and $k_g$ is the mass transfer coefficient. In making the problem dimensionless, an additional dimensionless parameter called the Biot number, $Bi = k_gR/D$, arises. Also report asymptotic values of the effectiveness factor, $\\eta$, for small and large values of the Thiele modulus, $\\Phi$.\n",
    "\n",
    "**Plot profiles of the dimensionless concentration with varying levels of Bi, $\\Phi$, and $u_f$**"
   ]
  },
  {
   "cell_type": "markdown",
   "metadata": {},
   "source": [
    "#### Problem 4 (Morbidelli 4.26, modified)\n",
    "### *NOT TO BE DONE AS SOLO WORK  - WILL ADDRESS IN CLASS?\n",
    "\n",
    "\n",
    "Consider a circular fin of thickness b attached to a heated pipe with outside wall temperature $T_0$. Heat loss from the end area ($2 \\pi R_1 b$) may be neglected. The ambient air is maintained at temperature $T_a$.\n",
    "\n",
    "1. Derive an expression for the temperature profile within the fin.\n",
    "2. Derive an expression for the total heat loss from the fin.\n",
    "3. Derive an expression for the fin efficiency, $\\eta$, which is defined as the ratio of heat actually dissipated by the fin, to that which would be lost if the entire fin surface were held at $T_0$.\n",
    "\n",
    "**Plot the temperature profile to make sure your solution makes sense.**"
   ]
  },
  {
   "cell_type": "code",
   "execution_count": null,
   "metadata": {},
   "outputs": [],
   "source": []
  }
 ],
 "metadata": {
  "kernelspec": {
   "display_name": "Python 3",
   "language": "python",
   "name": "python3"
  },
  "language_info": {
   "codemirror_mode": {
    "name": "ipython",
    "version": 3
   },
   "file_extension": ".py",
   "mimetype": "text/x-python",
   "name": "python",
   "nbconvert_exporter": "python",
   "pygments_lexer": "ipython3",
   "version": "3.7.0"
  }
 },
 "nbformat": 4,
 "nbformat_minor": 2
}
